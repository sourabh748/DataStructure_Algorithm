{
 "cells": [
  {
   "cell_type": "code",
   "execution_count": 18,
   "id": "df6996dc",
   "metadata": {},
   "outputs": [],
   "source": [
    "def secondLargestElement( arr ):\n",
    "\n",
    "    if len(arr) <= 1:\n",
    "        return -1\n",
    "\n",
    "    secmax, difference = float('-inf'), float('inf')\n",
    "    max_element = max(arr)\n",
    "\n",
    "    for ele in arr:\n",
    "        diff = max_element - ele\n",
    "        if diff != 0 and diff < difference:\n",
    "            secmax = ele\n",
    "            difference = diff\n",
    "\n",
    "    return secmax if secmax != float('-inf') else -1"
   ]
  },
  {
   "cell_type": "code",
   "execution_count": 42,
   "id": "f0cc0dbd",
   "metadata": {},
   "outputs": [],
   "source": [
    "def secondLargestElementOptimized(arr):\n",
    "     if len(arr) <= 1:\n",
    "        return -1\n",
    "     \n",
    "     largest, secondLargest = arr[0], -1\n",
    "\n",
    "     index = 1\n",
    "     while ( index <= len(arr) -1):\n",
    "        if arr[index] > largest:\n",
    "             secondLargest = largest\n",
    "             largest = arr[index]\n",
    "        elif arr[index] < largest and arr[index] > secondLargest:\n",
    "            secondLargest = arr[index]\n",
    "        index += 1\n",
    "\n",
    "     return secondLargest if secondLargest != largest else -1\n"
   ]
  },
  {
   "cell_type": "code",
   "execution_count": 43,
   "id": "7b8f72b6",
   "metadata": {},
   "outputs": [
    {
     "data": {
      "text/plain": [
       "-1"
      ]
     },
     "execution_count": 43,
     "metadata": {},
     "output_type": "execute_result"
    }
   ],
   "source": [
    "secondLargestElementOptimized([9, 9, 9, 9, 9, 9 ,9, 9, 9])"
   ]
  },
  {
   "cell_type": "code",
   "execution_count": 49,
   "id": "4d29f373",
   "metadata": {},
   "outputs": [],
   "source": [
    "def sortedAndRotated( arr ):\n",
    "    length = len(arr)\n",
    "    arr = arr + arr\n",
    "\n",
    "    count = 0\n",
    "\n",
    "    for i in range(len(arr) -1):\n",
    "\n",
    "        if arr[i + 1] - arr[i] >= 0:\n",
    "            count += 1\n",
    "        # elif arr[i + 1] - arr[i] < 0:\n",
    "        else:\n",
    "            count = 0\n",
    "\n",
    "        if count >= length -1:\n",
    "            return True\n",
    "    return False"
   ]
  },
  {
   "cell_type": "code",
   "execution_count": 56,
   "id": "1e3b7ee3",
   "metadata": {},
   "outputs": [],
   "source": [
    "def sortedAndRotated( arr ):\n",
    "    count = 1\n",
    "\n",
    "    for i in range(2 *len(arr) -1):\n",
    "\n",
    "        if arr[(i + 1) % len(arr)] - arr[i % len(arr)] >= 0:\n",
    "            count += 1\n",
    "        else:\n",
    "            count = 1\n",
    "\n",
    "        if count == len(arr):\n",
    "            return True\n",
    "    \n",
    "    return len(arr) <= 1"
   ]
  },
  {
   "cell_type": "code",
   "execution_count": 57,
   "id": "2ad54dc7",
   "metadata": {},
   "outputs": [
    {
     "data": {
      "text/plain": [
       "False"
      ]
     },
     "execution_count": 57,
     "metadata": {},
     "output_type": "execute_result"
    }
   ],
   "source": [
    "sortedAndRotated([2,1,3,4])"
   ]
  },
  {
   "cell_type": "code",
   "execution_count": 58,
   "id": "7c198b6c",
   "metadata": {},
   "outputs": [],
   "source": [
    "def findMaxConsecutiveOnes( arr ):\n",
    "    maxi = cnt = 0\n",
    "\n",
    "    for ele in arr:\n",
    "        if ele == 1:\n",
    "            cnt += 1\n",
    "        else:\n",
    "            cnt = 0\n",
    "        \n",
    "        maxi = max(maxi, cnt)\n",
    "    \n",
    "    return maxi"
   ]
  },
  {
   "cell_type": "code",
   "execution_count": 60,
   "id": "a180c183",
   "metadata": {},
   "outputs": [
    {
     "data": {
      "text/plain": [
       "2"
      ]
     },
     "execution_count": 60,
     "metadata": {},
     "output_type": "execute_result"
    }
   ],
   "source": [
    "findMaxConsecutiveOnes([1, 0, 1, 1, 0, 1])"
   ]
  },
  {
   "cell_type": "code",
   "execution_count": 78,
   "id": "2ffdbeef",
   "metadata": {},
   "outputs": [],
   "source": [
    "from typing import List, Dict"
   ]
  },
  {
   "cell_type": "code",
   "execution_count": 65,
   "id": "917a05b7",
   "metadata": {},
   "outputs": [],
   "source": [
    "def twoSumBruteForce( arr: List[int], target: int ):\n",
    "    for i in range(len(arr)):\n",
    "        for j in range(i + 1, len(arr)):\n",
    "            if arr[i] + arr[j] == target:\n",
    "                return i, j\n",
    "            \n",
    "    return -1, -1"
   ]
  },
  {
   "cell_type": "code",
   "execution_count": 67,
   "id": "68d0a0ce",
   "metadata": {},
   "outputs": [
    {
     "data": {
      "text/plain": [
       "(0, 1)"
      ]
     },
     "execution_count": 67,
     "metadata": {},
     "output_type": "execute_result"
    }
   ],
   "source": [
    "twoSumBruteForce([3,3], 6)"
   ]
  },
  {
   "cell_type": "code",
   "execution_count": 101,
   "id": "ccb48095",
   "metadata": {},
   "outputs": [],
   "source": [
    "def twoSumRecurse(arr: List[int], target: int, left: int, right: int, dp: Dict[tuple, tuple]):\n",
    "    if dp.get((left, right), -1) != -1:\n",
    "        return dp.get((left, right))\n",
    "    elif left >= len(arr) or right >= len(arr):\n",
    "        return -1, -1\n",
    "    elif arr[left] + arr[right] == target:\n",
    "        return left, right\n",
    "    \n",
    "    result1 = twoSumRecurse(arr, target, left, right + 1, dp)\n",
    "    result2 = twoSumRecurse(arr, target, left + 1, left + 2, dp)\n",
    "\n",
    "    dp[(left, right)] = result1 if result1 != (-1, -1) else result2\n",
    "    \n",
    "    if result1 == (-1, -1):\n",
    "        return result2\n",
    "    return result1"
   ]
  },
  {
   "cell_type": "code",
   "execution_count": 102,
   "id": "4b9d23ab",
   "metadata": {},
   "outputs": [
    {
     "name": "stdout",
     "output_type": "stream",
     "text": [
      "CPU times: total: 0 ns\n",
      "Wall time: 0 ns\n"
     ]
    },
    {
     "data": {
      "text/plain": [
       "(2, 3)"
      ]
     },
     "execution_count": 102,
     "metadata": {},
     "output_type": "execute_result"
    }
   ],
   "source": [
    "%%time\n",
    "dp = {}\n",
    "twoSumRecurse([2,7,11,15], 26, 0, 1, dp=dp)"
   ]
  },
  {
   "cell_type": "code",
   "execution_count": 166,
   "id": "38f53af1",
   "metadata": {},
   "outputs": [],
   "source": [
    "def maxSubarray( arr: List[int], left: int = 0, increment: int =0, maxi: int= float('-inf'), currentSum: int =0 , memo : Dict[int, int] = {}):\n",
    "    if left + increment >= len(arr):\n",
    "        return maxi\n",
    "    elif (left, increment) in memo:\n",
    "        return memo[(left, increment)]\n",
    "    \n",
    "    result = currentSum + arr[left + increment]\n",
    "    maxi = max(maxi, result)\n",
    "\n",
    "    leftSum = maxSubarray( arr, left, increment + 1, maxi,  result, memo)\n",
    "    memo[(left, increment)] = leftSum\n",
    "    rightSum = maxSubarray( arr, left + 1, 0, maxi, 0, memo)\n",
    "    memo[(left, increment)] = rightSum\n",
    "\n",
    "    return leftSum if leftSum > rightSum else rightSum"
   ]
  },
  {
   "cell_type": "code",
   "execution_count": 167,
   "id": "5490c9e1",
   "metadata": {},
   "outputs": [
    {
     "name": "stdout",
     "output_type": "stream",
     "text": [
      "CPU times: total: 0 ns\n",
      "Wall time: 0 ns\n"
     ]
    },
    {
     "data": {
      "text/plain": [
       "23"
      ]
     },
     "execution_count": 167,
     "metadata": {},
     "output_type": "execute_result"
    }
   ],
   "source": [
    "%%time\n",
    "maxSubarray([5,4,-1,7,8], memo={})"
   ]
  },
  {
   "cell_type": "code",
   "execution_count": 168,
   "id": "9482adec",
   "metadata": {},
   "outputs": [
    {
     "name": "stdout",
     "output_type": "stream",
     "text": [
      "CPU times: total: 0 ns\n",
      "Wall time: 0 ns\n"
     ]
    },
    {
     "data": {
      "text/plain": [
       "1"
      ]
     },
     "execution_count": 168,
     "metadata": {},
     "output_type": "execute_result"
    }
   ],
   "source": [
    "%%time\n",
    "maxSubarray([1], memo={})"
   ]
  },
  {
   "cell_type": "code",
   "execution_count": 169,
   "id": "9755c471",
   "metadata": {},
   "outputs": [
    {
     "name": "stdout",
     "output_type": "stream",
     "text": [
      "CPU times: total: 0 ns\n",
      "Wall time: 0 ns\n"
     ]
    },
    {
     "data": {
      "text/plain": [
       "6"
      ]
     },
     "execution_count": 169,
     "metadata": {},
     "output_type": "execute_result"
    }
   ],
   "source": [
    "%%time\n",
    "dp = {}\n",
    "maxSubarray([-2,1,-3,4,-1,2,1,-5,4], memo={})"
   ]
  },
  {
   "cell_type": "code",
   "execution_count": null,
   "id": "fbb67bb4",
   "metadata": {},
   "outputs": [],
   "source": []
  }
 ],
 "metadata": {
  "kernelspec": {
   "display_name": "env",
   "language": "python",
   "name": "python3"
  },
  "language_info": {
   "codemirror_mode": {
    "name": "ipython",
    "version": 3
   },
   "file_extension": ".py",
   "mimetype": "text/x-python",
   "name": "python",
   "nbconvert_exporter": "python",
   "pygments_lexer": "ipython3",
   "version": "3.12.9"
  }
 },
 "nbformat": 4,
 "nbformat_minor": 5
}
